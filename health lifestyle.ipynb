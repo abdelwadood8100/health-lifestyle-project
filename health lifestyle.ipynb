{
 "cells": [
  {
   "cell_type": "code",
   "execution_count": 1,
   "id": "ea015559",
   "metadata": {},
   "outputs": [],
   "source": [
    "import pandas as pd\n",
    "import pypyodbc as podbc\n"
   ]
  },
  {
   "cell_type": "code",
   "execution_count": 2,
   "id": "14d9dbaa",
   "metadata": {},
   "outputs": [],
   "source": [
    "\n",
    "\n",
    "conn2 = podbc.connect(\"Driver={ODBC Driver 11 for SQL Server};\"\n",
    "                     \"Server=DESKTOP-05QNBKK;\"\n",
    "                     \"Database=master;\"\n",
    "                     \"Trusted_Connection=yes;\")"
   ]
  },
  {
   "cell_type": "code",
   "execution_count": 5,
   "id": "e0869bb0",
   "metadata": {},
   "outputs": [
    {
     "name": "stdout",
     "output_type": "stream",
     "text": [
      "Requirement already satisfied: pypyodbc in d:\\acc 2\\lib\\site-packages (1.3.6)\n",
      "Requirement already satisfied: setuptools in d:\\acc 2\\lib\\site-packages (from pypyodbc) (68.0.0)\n",
      "Note: you may need to restart the kernel to use updated packages.\n"
     ]
    }
   ],
   "source": [
    "pip install pypyodbc"
   ]
  },
  {
   "cell_type": "code",
   "execution_count": 7,
   "id": "2ff6474e",
   "metadata": {},
   "outputs": [
    {
     "name": "stderr",
     "output_type": "stream",
     "text": [
      "C:\\Users\\MOHAMED\\AppData\\Local\\Temp\\ipykernel_12320\\3242813958.py:1: UserWarning: pandas only supports SQLAlchemy connectable (engine/connection) or database string URI or sqlite3 DBAPI2 connection. Other DBAPI2 objects are not tested. Please consider using SQLAlchemy.\n",
      "  health = pd.read_sql_query('''SELECT * FROM [dbo].[Sleep_health_and_lifestyle_dataset]''', conn2)\n"
     ]
    }
   ],
   "source": [
    "health = pd.read_sql_query('''SELECT * FROM [dbo].[Sleep_health_and_lifestyle_dataset]''', conn2)\n",
    " \n",
    "#conn.close()\n",
    "\n",
    "# Viz\n",
    "health.head()\n",
    "\n",
    "health = health.drop(0)\n",
    "\n",
    "\n",
    "health.head()\n",
    "\n",
    "\n",
    "occupation_bmi_category_health = health[['occupation', 'bmi category']]\n",
    "occupation_bmi_category_health.to_csv('occupation_bmi_category_health.csv', index=False)\n",
    "\n",
    "gender_daily_steps_health = health[['gender', 'daily steps']]\n",
    "gender_daily_steps_health.to_csv('gender_daily_steps_health.csv', index=False)\n",
    "\n",
    "health['daily steps'].max()\n",
    "Q2=pd.DataFrame({\"max_Daily_steps\": [10000]})\n",
    "Q2.to_csv(\"max_Daily_Steps\")\n",
    "\n",
    "gender_sleep_disorder_health = health[['gender', 'sleep disorder']]\n",
    "gender_sleep_disorder_health.to_csv('gender_sleep_disorder_health.csv', index=False)\n",
    "\n",
    "health['Stress Level'].mean()\n",
    "Q1=pd.DataFrame({\"Stress_level\": [5.385026737967914]})\n",
    "Q1.to_csv(\"avg_Stress_level\")\n",
    "\n",
    "Q3=gender_sleep_duration_health = health[['gender', 'sleep duratio']]\n",
    "gender_sleep_duration_health.to_csv('gender_sleep_duration_health.csv', index=False\n",
    "                                    \n",
    "Q4=occupation_bmi_category_health = health[['occupation', 'bmi category']]\n",
    "occupation_bmi_category_health.to_csv('occupation_bmi_category_health.csv', index=False)\n",
    "\n",
    "Q5:gender_sleep_disorder_health = health[['gender', 'sleep disorder']]\n",
    "gender_sleep_disorder_health.to_csv('gender_sleep_disorder_health.csv', index=False)\n",
    "                                \n",
    "Q6=gender_occupation_health = health[['occupation', 'gender']]\n",
    "gender_occupation_health.to_csv('gender_occupation_health.csv', index=False)\n",
    "                                    \n"
   ]
  },
  {
   "cell_type": "code",
   "execution_count": 9,
   "id": "b3dfb112",
   "metadata": {},
   "outputs": [
    {
     "data": {
      "text/plain": [
       "['SQL Server',\n",
       " 'SQL Server Native Client 11.0',\n",
       " 'ODBC Driver 11 for SQL Server',\n",
       " 'Microsoft Access Driver (*.mdb, *.accdb)',\n",
       " 'Microsoft Excel Driver (*.xls, *.xlsx, *.xlsm, *.xlsb)',\n",
       " 'Microsoft Access Text Driver (*.txt, *.csv)']"
      ]
     },
     "execution_count": 9,
     "metadata": {},
     "output_type": "execute_result"
    }
   ],
   "source": [
    "import pyodbc\n",
    "pyodbc.drivers()"
   ]
  },
  {
   "cell_type": "code",
   "execution_count": null,
   "id": "af934841",
   "metadata": {},
   "outputs": [],
   "source": []
  }
 ],
 "metadata": {
  "kernelspec": {
   "display_name": "Python 3 (ipykernel)",
   "language": "python",
   "name": "python3"
  },
  "language_info": {
   "codemirror_mode": {
    "name": "ipython",
    "version": 3
   },
   "file_extension": ".py",
   "mimetype": "text/x-python",
   "name": "python",
   "nbconvert_exporter": "python",
   "pygments_lexer": "ipython3",
   "version": "3.11.4"
  }
 },
 "nbformat": 4,
 "nbformat_minor": 5
}
